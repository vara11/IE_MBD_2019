{
 "cells": [
  {
   "cell_type": "code",
   "execution_count": 84,
   "metadata": {},
   "outputs": [
    {
     "name": "stdout",
     "output_type": "stream",
     "text": [
      "Sum of multiples of 3 and 5 less than 1000 is : 233168\n"
     ]
    }
   ],
   "source": [
    "# Problem 1\n",
    "# Sum of multiples of 3 and 5 less than 1000\n",
    "\n",
    "\n",
    "# Using a for loop to spcify the required range and also using an if function to ensure that \n",
    "# only multiples of 3 and 5 are added as elements in the list.\n",
    "\n",
    "sum_multiples = []\n",
    "for N in range(0,1000):\n",
    "    if N % 3 == 0 or N % 5 == 0:\n",
    "        sum_multiples.append(N)\n",
    "print(\"Sum of multiples of 3 and 5 less than 1000 is :\", sum(sum_multiples))"
   ]
  },
  {
   "cell_type": "code",
   "execution_count": 85,
   "metadata": {},
   "outputs": [
    {
     "name": "stdout",
     "output_type": "stream",
     "text": [
      "4613732\n"
     ]
    }
   ],
   "source": [
    "# Problem 2\n",
    "# Even Fibonacci numbers\n",
    "\n",
    "x = 0\n",
    "y = 1\n",
    "z = 0\n",
    "even_sum = 0\n",
    "\n",
    "# Using a While loop to fulfil the condition of next term being less than or equal to 4000000 and \n",
    "# an if condition to ensure it is an even number\n",
    "\n",
    "while(z < 4000000): \n",
    "    z = x + y\n",
    "    x = y\n",
    "    y = z\n",
    "    if(z % 2 == 0):\n",
    "        even_sum += z;\n",
    "        \n",
    "print(even_sum)"
   ]
  },
  {
   "cell_type": "code",
   "execution_count": 86,
   "metadata": {},
   "outputs": [
    {
     "name": "stdout",
     "output_type": "stream",
     "text": [
      "6857\n"
     ]
    }
   ],
   "source": [
    "# Problem 3\n",
    "# Largest Prime Factor\n",
    "\n",
    "N = 600851475143 \n",
    "       \n",
    "def find_prime_facs(N):\n",
    "    \"\"\"This function is used to find the prime factors for a given number\"\"\"\n",
    "    \n",
    "    list_of_factors=[] \n",
    "    i=2\n",
    "    \n",
    "    while N > 1:\n",
    "        if N % i == 0:  # When N is divisible by i, this condition helps us to find factors\n",
    "            N = N / i   # This ensures that only prime factors are appended to the list created above\n",
    "            list_of_factors.append(i) \n",
    "        i += 1          # As we know that N is odd, our prime factors are also odd, hence our divisor must be odd as well \n",
    "    return list_of_factors\n",
    "\n",
    "print(list(find_prime_facs(N))[-1])"
   ]
  },
  {
   "cell_type": "code",
   "execution_count": 87,
   "metadata": {},
   "outputs": [
    {
     "name": "stdout",
     "output_type": "stream",
     "text": [
      "906609\n"
     ]
    }
   ],
   "source": [
    "# Problem 4\n",
    "# Largest palindrome product\n",
    "\n",
    "x = 100\n",
    "\n",
    "pal = []\n",
    "\n",
    "while x < 1000:\n",
    "    for i in range(100,1000):\n",
    "        for j in range(100,1000):\n",
    "            prod = str(i*j)        # Transfroming the multiplication into a string for comparison\n",
    "            if prod == prod[::-1]: # Codition to check for the palindrome\n",
    "                pal.append(int(prod))\n",
    "            x += 1\n",
    "print(max(pal))                    # Obatining the largest palindrome in the list"
   ]
  },
  {
   "cell_type": "code",
   "execution_count": 88,
   "metadata": {},
   "outputs": [
    {
     "name": "stdout",
     "output_type": "stream",
     "text": [
      "The smallest positive multiple = 232792560\n"
     ]
    }
   ],
   "source": [
    "# Problem 5\n",
    "# Smallest Multiple\n",
    "\n",
    "# This problem is basically asking us to find the Least Common Multiple for a given range of numbers\n",
    "\n",
    "from math import gcd         # To find LCM, we can use the concept of GCD function from the math library.\n",
    "Numbers = list(range(1,21))   \n",
    "lcm = Numbers[0]\n",
    "for i in Numbers[1:]:\n",
    "    lcm = int(lcm*i/gcd(lcm, i))  # We are using the concept: LCM(a,b) = a*b/gcd(a,b)\n",
    "print(\"The smallest positive multiple =\", lcm)"
   ]
  },
  {
   "cell_type": "code",
   "execution_count": 89,
   "metadata": {},
   "outputs": [
    {
     "name": "stdout",
     "output_type": "stream",
     "text": [
      "The difference in squares = 25164150\n"
     ]
    }
   ],
   "source": [
    "# Problem 6\n",
    "# Sum of Squares Difference\n",
    "\n",
    "# We first calculate the sum of squares using the for loop to iterate over the required range\n",
    "sum_sq = []\n",
    "for i in range(1, 101):\n",
    "    sum_sq.append(i*i)\n",
    "sum_squares = sum(sum_sq)\n",
    "\n",
    "# Then we calculate the square of the sum by creating a list of the required range and summing it\n",
    "sq_sum = sum(list(range(1, 101)))**2\n",
    "        \n",
    "print(\"The difference in squares =\", sq_sum - sum_squares)"
   ]
  },
  {
   "cell_type": "code",
   "execution_count": 90,
   "metadata": {},
   "outputs": [
    {
     "name": "stdout",
     "output_type": "stream",
     "text": [
      "104743\n"
     ]
    }
   ],
   "source": [
    "# Problem 7\n",
    "# 10,001st Prime Number\n",
    "\n",
    "def is_prime(n):\n",
    "    \"\"\"Function to test whether a numbers in a given range are Prime. Returns True, if prime and returns false if not prime\"\"\"\n",
    "    for i in range(3, n):\n",
    "        if n % i == 0:\n",
    "            return False\n",
    "    return True\n",
    "\n",
    "primes = [] \n",
    "n = 2 # We start at number 2, as 2 is the first prime\n",
    "\n",
    "while len(primes) < 10002:  # Since the number required is 10,001st prime, our condition is n+1\n",
    "    if is_prime(n):\n",
    "        primes.append(n)  # If the result is True using the above function, that prime number is added to the list called primes\n",
    "    n+=1 \n",
    "\n",
    "print(primes[-1])\n"
   ]
  },
  {
   "cell_type": "code",
   "execution_count": 91,
   "metadata": {},
   "outputs": [
    {
     "name": "stdout",
     "output_type": "stream",
     "text": [
      "The max product is 23514624000\n"
     ]
    }
   ],
   "source": [
    "# Problem 8\n",
    "# Largest product in a series\n",
    "\n",
    "num = str(7316717653133062491922511967442657474235534919493496983520312774506326239578318016984801869478851843858615607891129494954595017379583319528532088055111254069874715852386305071569329096329522744304355766896648950445244523161731856403098711121722383113622298934233803081353362766142828064444866452387493035890729629049156044077239071381051585930796086670172427121883998797908792274921901699720888093776657273330010533678812202354218097512545405947522435258490771167055601360483958644670632441572215539753697817977846174064955149290862569321978468622482839722413756570560574902614079729686524145351004748216637048440319989000889524345065854122758866688116427171479924442928230863465674813919123162824586178664583591245665294765456828489128831426076900422421902267105562632111110937054421750694165896040807198403850962455444362981230987879927244284909188845801561660979191338754992005240636899125607176060588611646710940507754100225698315520005593572972571636269561882670428252483600823257530420752963450)\n",
    "#First we make the number one long string so that we can then split it into the desired chunks\n",
    "\n",
    "i = 0\n",
    "j = 0\n",
    "product_list = []\n",
    "while i < len(num) - 13:\n",
    "    # This condition is so that we can take 13 digit adjacent chunks in our number, the last chunk will the last thirteen digits\n",
    "    # We then store each digit as separate variables\n",
    "    one = int(num[i])\n",
    "    two = int(num[i + 1])\n",
    "    three = int(num[i + 2])\n",
    "    four = int(num[i + 3])\n",
    "    five = int(num[i + 4])\n",
    "    six = int(num[i + 5])\n",
    "    seven = int(num[i + 6])\n",
    "    eight = int(num[i + 7])\n",
    "    nine = int(num[i + 8])\n",
    "    ten = int(num[i + 9])\n",
    "    eleven = int(num[i + 10])\n",
    "    twelve = int(num[i + 11])\n",
    "    thirteen = int(num[i + 12])\n",
    "    j = one * two * three * four * five * six * seven * eight * nine * ten * eleven * twelve * thirteen\n",
    "    # j then stores the product of these 13 digits\n",
    "    i = i + 1\n",
    "    product_list.append(j)\n",
    "print(\"The max product is\", max(product_list))\n"
   ]
  },
  {
   "cell_type": "code",
   "execution_count": 92,
   "metadata": {},
   "outputs": [
    {
     "name": "stdout",
     "output_type": "stream",
     "text": [
      "The product of abc is 31875000\n"
     ]
    }
   ],
   "source": [
    "# Problem 9\n",
    "# Special Pythagorean triplet\n",
    "\n",
    "# We iterate over c, then b and a as the condition of the pythagorean triples is a < b < c\n",
    "for c in range(1, 500):\n",
    "    for b in range(1, c):\n",
    "        for a in range(1, b):\n",
    "            # Only if the Pythagorean triplet condition and the required sum of the 3 numbers is True will the answer be printed\n",
    "            if (a**2 + b**2 == c**2) and (a + b + c == 1000): \n",
    "                print(\"The product of abc is\", a*b*c)"
   ]
  },
  {
   "cell_type": "code",
   "execution_count": 93,
   "metadata": {},
   "outputs": [
    {
     "name": "stdout",
     "output_type": "stream",
     "text": [
      "The sum of primes for all numbers below 2 million is 142913828922\n"
     ]
    }
   ],
   "source": [
    "# Problem 10\n",
    "# Summation of primes\n",
    "\n",
    "# We use a for loop to iterate over the required range of under 2 million\n",
    "primes = []\n",
    "for n in range(2, 2000001):\n",
    "       \n",
    "    # We use the variable isPrime to assume a number is prime until shown it is not i.e. false \n",
    "    isPrime = True\n",
    "    for i in range(2, int(n ** 0.5) + 1):\n",
    "        # After running the intial code, it was taking too long to run the loop through the entire range hence it was then discoverd that\n",
    "        # I can test for primes only upto the square-root of number to be checked in the initial loop \n",
    "        # as it is mathematically proven that all factors less than or equal to the square root for non-prime numbers repeat for larger numbers.\n",
    "        # This requires less numbers to be tested for primes\n",
    "        if n % i == 0:\n",
    "            isPrime = False\n",
    "            break\n",
    "      \n",
    "    if isPrime:\n",
    "        primes.append(n)  #if the number is prime it is inserted into the list called primes\n",
    "\n",
    "print(\"The sum of primes for all numbers below 2 million is\", sum(primes))"
   ]
  }
 ],
 "metadata": {
  "kernelspec": {
   "display_name": "Python 3",
   "language": "python",
   "name": "python3"
  },
  "language_info": {
   "codemirror_mode": {
    "name": "ipython",
    "version": 3
   },
   "file_extension": ".py",
   "mimetype": "text/x-python",
   "name": "python",
   "nbconvert_exporter": "python",
   "pygments_lexer": "ipython3",
   "version": "3.7.3"
  }
 },
 "nbformat": 4,
 "nbformat_minor": 4
}
